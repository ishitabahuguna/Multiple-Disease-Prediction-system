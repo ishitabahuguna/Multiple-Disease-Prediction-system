{
 "cells": [
  {
   "cell_type": "markdown",
   "id": "44949c7f",
   "metadata": {},
   "source": [
    "## Diabetes Prediction System"
   ]
  },
  {
   "cell_type": "code",
   "execution_count": 15,
   "id": "e20d28d7",
   "metadata": {},
   "outputs": [
    {
     "name": "stdout",
     "output_type": "stream",
     "text": [
      "Requirement already satisfied: sklearn in c:\\users\\dell\\new folder\\envs\\modelml\\lib\\site-packages (0.0.post1)\n",
      "Note: you may need to restart the kernel to use updated packages.\n"
     ]
    }
   ],
   "source": [
    "pip install sklearn"
   ]
  },
  {
   "cell_type": "code",
   "execution_count": 16,
   "id": "a6bb5eba",
   "metadata": {},
   "outputs": [],
   "source": [
    "import numpy as np\n",
    "import pandas as pd\n",
    "import sklearn\n",
    "from sklearn.naive_bayes import GaussianNB\n",
    "from sklearn.linear_model import LogisticRegression\n",
    "from sklearn.ensemble import RandomForestClassifier\n",
    "from sklearn.model_selection import train_test_split, cross_val_score, cross_val_predict\n",
    "from sklearn import metrics"
   ]
  },
  {
   "cell_type": "code",
   "execution_count": 17,
   "id": "1b2a574c",
   "metadata": {},
   "outputs": [],
   "source": [
    "from sklearn.preprocessing import StandardScaler\n",
    "from sklearn.metrics import accuracy_score\n",
    "from sklearn.model_selection import train_test_split\n",
    "from sklearn import svm"
   ]
  },
  {
   "cell_type": "code",
   "execution_count": 18,
   "id": "e275e989",
   "metadata": {},
   "outputs": [
    {
     "data": {
      "text/plain": [
       "<bound method NDFrame.head of      Pregnancies  Glucose  BloodPressure  SkinThickness  Insulin   BMI  \\\n",
       "0              1       89             66             23       94  28.1   \n",
       "1              3       78             50             32       88  31.0   \n",
       "2              2      197             70             45      543  30.5   \n",
       "3              1      189             60             23      846  30.1   \n",
       "4              5      166             72             19      175  25.8   \n",
       "..           ...      ...            ...            ...      ...   ...   \n",
       "331            1      121             78             39       74  39.0   \n",
       "332            1      128             88             39      110  36.5   \n",
       "333            2       88             58             26       16  28.4   \n",
       "334           10      101             76             48      180  32.9   \n",
       "335            5      121             72             23      112  26.2   \n",
       "\n",
       "     DiabetesPedigreeFunction  Age  Outcome  \n",
       "0                       0.167   21        0  \n",
       "1                       0.248   26        1  \n",
       "2                       0.158   53        1  \n",
       "3                       0.398   59        1  \n",
       "4                       0.587   51        1  \n",
       "..                        ...  ...      ...  \n",
       "331                     0.261   28        0  \n",
       "332                     1.057   37        1  \n",
       "333                     0.766   22        0  \n",
       "334                     0.171   63        0  \n",
       "335                     0.245   30        0  \n",
       "\n",
       "[336 rows x 9 columns]>"
      ]
     },
     "execution_count": 18,
     "metadata": {},
     "output_type": "execute_result"
    }
   ],
   "source": [
    "data1=pd.read_csv('diabetes.csv')\n",
    "data1.head"
   ]
  },
  {
   "cell_type": "code",
   "execution_count": 19,
   "id": "93772746",
   "metadata": {},
   "outputs": [
    {
     "data": {
      "text/plain": [
       "(336, 9)"
      ]
     },
     "execution_count": 19,
     "metadata": {},
     "output_type": "execute_result"
    }
   ],
   "source": [
    "data1.shape"
   ]
  },
  {
   "cell_type": "code",
   "execution_count": 20,
   "id": "85387263",
   "metadata": {},
   "outputs": [
    {
     "data": {
      "text/plain": [
       "array(['Pregnancies', 'Glucose', 'BloodPressure', 'SkinThickness',\n",
       "       'Insulin', 'BMI', 'DiabetesPedigreeFunction', 'Age', 'Outcome'],\n",
       "      dtype=object)"
      ]
     },
     "execution_count": 20,
     "metadata": {},
     "output_type": "execute_result"
    }
   ],
   "source": [
    "data1.columns.values"
   ]
  },
  {
   "cell_type": "code",
   "execution_count": 21,
   "id": "5c9feeeb",
   "metadata": {},
   "outputs": [
    {
     "data": {
      "text/html": [
       "<div>\n",
       "<style scoped>\n",
       "    .dataframe tbody tr th:only-of-type {\n",
       "        vertical-align: middle;\n",
       "    }\n",
       "\n",
       "    .dataframe tbody tr th {\n",
       "        vertical-align: top;\n",
       "    }\n",
       "\n",
       "    .dataframe thead th {\n",
       "        text-align: right;\n",
       "    }\n",
       "</style>\n",
       "<table border=\"1\" class=\"dataframe\">\n",
       "  <thead>\n",
       "    <tr style=\"text-align: right;\">\n",
       "      <th></th>\n",
       "      <th>Pregnancies</th>\n",
       "      <th>Glucose</th>\n",
       "      <th>BloodPressure</th>\n",
       "      <th>SkinThickness</th>\n",
       "      <th>Insulin</th>\n",
       "      <th>BMI</th>\n",
       "      <th>DiabetesPedigreeFunction</th>\n",
       "      <th>Age</th>\n",
       "      <th>Outcome</th>\n",
       "    </tr>\n",
       "  </thead>\n",
       "  <tbody>\n",
       "    <tr>\n",
       "      <th>count</th>\n",
       "      <td>336.000000</td>\n",
       "      <td>336.000000</td>\n",
       "      <td>336.000000</td>\n",
       "      <td>336.000000</td>\n",
       "      <td>336.000000</td>\n",
       "      <td>336.000000</td>\n",
       "      <td>336.000000</td>\n",
       "      <td>336.000000</td>\n",
       "      <td>336.000000</td>\n",
       "    </tr>\n",
       "    <tr>\n",
       "      <th>mean</th>\n",
       "      <td>3.851190</td>\n",
       "      <td>122.279762</td>\n",
       "      <td>70.244048</td>\n",
       "      <td>28.663690</td>\n",
       "      <td>155.348214</td>\n",
       "      <td>32.297321</td>\n",
       "      <td>0.518702</td>\n",
       "      <td>31.836310</td>\n",
       "      <td>0.330357</td>\n",
       "    </tr>\n",
       "    <tr>\n",
       "      <th>std</th>\n",
       "      <td>3.148352</td>\n",
       "      <td>30.784649</td>\n",
       "      <td>12.363401</td>\n",
       "      <td>10.249863</td>\n",
       "      <td>118.777281</td>\n",
       "      <td>6.368558</td>\n",
       "      <td>0.327689</td>\n",
       "      <td>10.458446</td>\n",
       "      <td>0.471043</td>\n",
       "    </tr>\n",
       "    <tr>\n",
       "      <th>min</th>\n",
       "      <td>1.000000</td>\n",
       "      <td>56.000000</td>\n",
       "      <td>24.000000</td>\n",
       "      <td>7.000000</td>\n",
       "      <td>15.000000</td>\n",
       "      <td>18.200000</td>\n",
       "      <td>0.085000</td>\n",
       "      <td>21.000000</td>\n",
       "      <td>0.000000</td>\n",
       "    </tr>\n",
       "    <tr>\n",
       "      <th>25%</th>\n",
       "      <td>1.000000</td>\n",
       "      <td>99.000000</td>\n",
       "      <td>62.000000</td>\n",
       "      <td>21.000000</td>\n",
       "      <td>76.000000</td>\n",
       "      <td>27.800000</td>\n",
       "      <td>0.268000</td>\n",
       "      <td>24.000000</td>\n",
       "      <td>0.000000</td>\n",
       "    </tr>\n",
       "    <tr>\n",
       "      <th>50%</th>\n",
       "      <td>3.000000</td>\n",
       "      <td>119.000000</td>\n",
       "      <td>70.000000</td>\n",
       "      <td>28.500000</td>\n",
       "      <td>125.500000</td>\n",
       "      <td>32.750000</td>\n",
       "      <td>0.446500</td>\n",
       "      <td>28.000000</td>\n",
       "      <td>0.000000</td>\n",
       "    </tr>\n",
       "    <tr>\n",
       "      <th>75%</th>\n",
       "      <td>6.000000</td>\n",
       "      <td>144.000000</td>\n",
       "      <td>78.000000</td>\n",
       "      <td>36.000000</td>\n",
       "      <td>190.000000</td>\n",
       "      <td>36.250000</td>\n",
       "      <td>0.688250</td>\n",
       "      <td>38.000000</td>\n",
       "      <td>1.000000</td>\n",
       "    </tr>\n",
       "    <tr>\n",
       "      <th>max</th>\n",
       "      <td>17.000000</td>\n",
       "      <td>197.000000</td>\n",
       "      <td>110.000000</td>\n",
       "      <td>52.000000</td>\n",
       "      <td>846.000000</td>\n",
       "      <td>57.300000</td>\n",
       "      <td>2.329000</td>\n",
       "      <td>81.000000</td>\n",
       "      <td>1.000000</td>\n",
       "    </tr>\n",
       "  </tbody>\n",
       "</table>\n",
       "</div>"
      ],
      "text/plain": [
       "       Pregnancies     Glucose  BloodPressure  SkinThickness     Insulin  \\\n",
       "count   336.000000  336.000000     336.000000     336.000000  336.000000   \n",
       "mean      3.851190  122.279762      70.244048      28.663690  155.348214   \n",
       "std       3.148352   30.784649      12.363401      10.249863  118.777281   \n",
       "min       1.000000   56.000000      24.000000       7.000000   15.000000   \n",
       "25%       1.000000   99.000000      62.000000      21.000000   76.000000   \n",
       "50%       3.000000  119.000000      70.000000      28.500000  125.500000   \n",
       "75%       6.000000  144.000000      78.000000      36.000000  190.000000   \n",
       "max      17.000000  197.000000     110.000000      52.000000  846.000000   \n",
       "\n",
       "              BMI  DiabetesPedigreeFunction         Age     Outcome  \n",
       "count  336.000000                336.000000  336.000000  336.000000  \n",
       "mean    32.297321                  0.518702   31.836310    0.330357  \n",
       "std      6.368558                  0.327689   10.458446    0.471043  \n",
       "min     18.200000                  0.085000   21.000000    0.000000  \n",
       "25%     27.800000                  0.268000   24.000000    0.000000  \n",
       "50%     32.750000                  0.446500   28.000000    0.000000  \n",
       "75%     36.250000                  0.688250   38.000000    1.000000  \n",
       "max     57.300000                  2.329000   81.000000    1.000000  "
      ]
     },
     "execution_count": 21,
     "metadata": {},
     "output_type": "execute_result"
    }
   ],
   "source": [
    "data1.describe()"
   ]
  },
  {
   "cell_type": "markdown",
   "id": "677432f3",
   "metadata": {},
   "source": [
    " There are no null values."
   ]
  },
  {
   "cell_type": "code",
   "execution_count": 22,
   "id": "697e0cf9",
   "metadata": {},
   "outputs": [
    {
     "name": "stdout",
     "output_type": "stream",
     "text": [
      "<class 'pandas.core.frame.DataFrame'>\n",
      "RangeIndex: 336 entries, 0 to 335\n",
      "Data columns (total 9 columns):\n",
      " #   Column                    Non-Null Count  Dtype  \n",
      "---  ------                    --------------  -----  \n",
      " 0   Pregnancies               336 non-null    int64  \n",
      " 1   Glucose                   336 non-null    int64  \n",
      " 2   BloodPressure             336 non-null    int64  \n",
      " 3   SkinThickness             336 non-null    int64  \n",
      " 4   Insulin                   336 non-null    int64  \n",
      " 5   BMI                       336 non-null    float64\n",
      " 6   DiabetesPedigreeFunction  336 non-null    float64\n",
      " 7   Age                       336 non-null    int64  \n",
      " 8   Outcome                   336 non-null    int64  \n",
      "dtypes: float64(2), int64(7)\n",
      "memory usage: 23.8 KB\n"
     ]
    }
   ],
   "source": [
    "data1.info()            #to get a view over data type"
   ]
  },
  {
   "cell_type": "code",
   "execution_count": 23,
   "id": "a7ede4bc",
   "metadata": {},
   "outputs": [
    {
     "data": {
      "text/plain": [
       "0    225\n",
       "1    111\n",
       "Name: Outcome, dtype: int64"
      ]
     },
     "execution_count": 23,
     "metadata": {},
     "output_type": "execute_result"
    }
   ],
   "source": [
    "#to count diabetic and non diabetic patient\n",
    "data1['Outcome'].value_counts()"
   ]
  },
  {
   "cell_type": "markdown",
   "id": "c2008d0b",
   "metadata": {},
   "source": [
    "0 = Non-Diabetic\n",
    "1 = Diabetic"
   ]
  },
  {
   "cell_type": "code",
   "execution_count": 24,
   "id": "3e8ea1ed",
   "metadata": {},
   "outputs": [
    {
     "data": {
      "text/html": [
       "<div>\n",
       "<style scoped>\n",
       "    .dataframe tbody tr th:only-of-type {\n",
       "        vertical-align: middle;\n",
       "    }\n",
       "\n",
       "    .dataframe tbody tr th {\n",
       "        vertical-align: top;\n",
       "    }\n",
       "\n",
       "    .dataframe thead th {\n",
       "        text-align: right;\n",
       "    }\n",
       "</style>\n",
       "<table border=\"1\" class=\"dataframe\">\n",
       "  <thead>\n",
       "    <tr style=\"text-align: right;\">\n",
       "      <th></th>\n",
       "      <th>Pregnancies</th>\n",
       "      <th>Glucose</th>\n",
       "      <th>BloodPressure</th>\n",
       "      <th>SkinThickness</th>\n",
       "      <th>Insulin</th>\n",
       "      <th>BMI</th>\n",
       "      <th>DiabetesPedigreeFunction</th>\n",
       "      <th>Age</th>\n",
       "    </tr>\n",
       "    <tr>\n",
       "      <th>Outcome</th>\n",
       "      <th></th>\n",
       "      <th></th>\n",
       "      <th></th>\n",
       "      <th></th>\n",
       "      <th></th>\n",
       "      <th></th>\n",
       "      <th></th>\n",
       "      <th></th>\n",
       "    </tr>\n",
       "  </thead>\n",
       "  <tbody>\n",
       "    <tr>\n",
       "      <th>0</th>\n",
       "      <td>3.168889</td>\n",
       "      <td>111.146667</td>\n",
       "      <td>68.151111</td>\n",
       "      <td>26.746667</td>\n",
       "      <td>127.604444</td>\n",
       "      <td>31.052444</td>\n",
       "      <td>0.475467</td>\n",
       "      <td>28.964444</td>\n",
       "    </tr>\n",
       "    <tr>\n",
       "      <th>1</th>\n",
       "      <td>5.234234</td>\n",
       "      <td>144.846847</td>\n",
       "      <td>74.486486</td>\n",
       "      <td>32.549550</td>\n",
       "      <td>211.585586</td>\n",
       "      <td>34.820721</td>\n",
       "      <td>0.606342</td>\n",
       "      <td>37.657658</td>\n",
       "    </tr>\n",
       "  </tbody>\n",
       "</table>\n",
       "</div>"
      ],
      "text/plain": [
       "         Pregnancies     Glucose  BloodPressure  SkinThickness     Insulin  \\\n",
       "Outcome                                                                      \n",
       "0           3.168889  111.146667      68.151111      26.746667  127.604444   \n",
       "1           5.234234  144.846847      74.486486      32.549550  211.585586   \n",
       "\n",
       "               BMI  DiabetesPedigreeFunction        Age  \n",
       "Outcome                                                  \n",
       "0        31.052444                  0.475467  28.964444  \n",
       "1        34.820721                  0.606342  37.657658  "
      ]
     },
     "execution_count": 24,
     "metadata": {},
     "output_type": "execute_result"
    }
   ],
   "source": [
    "data1.groupby('Outcome').mean()"
   ]
  },
  {
   "cell_type": "code",
   "execution_count": 25,
   "id": "ed225d60",
   "metadata": {},
   "outputs": [
    {
     "data": {
      "text/plain": [
       "(336,)"
      ]
     },
     "execution_count": 25,
     "metadata": {},
     "output_type": "execute_result"
    }
   ],
   "source": [
    "# separating the data and labels\n",
    "X = data1.drop(columns = 'Outcome', axis=1)\n",
    "Y = data1['Outcome']\n",
    "Y.shape"
   ]
  },
  {
   "cell_type": "markdown",
   "id": "478add57",
   "metadata": {},
   "source": [
    "# TRAIN AND TEST SPLITTING"
   ]
  },
  {
   "cell_type": "code",
   "execution_count": 79,
   "id": "72af53ca",
   "metadata": {},
   "outputs": [],
   "source": [
    "X_train,X_test,Y_train,Y_test=train_test_split(X,Y,test_size=0.3,stratify=Y,random_state=2)"
   ]
  },
  {
   "cell_type": "code",
   "execution_count": 80,
   "id": "6fa6634d",
   "metadata": {},
   "outputs": [
    {
     "name": "stdout",
     "output_type": "stream",
     "text": [
      "(336, 8) (235, 8) (101, 8) (336,)\n"
     ]
    }
   ],
   "source": [
    "print(X.shape,X_train.shape,X_test.shape,Y.shape)"
   ]
  },
  {
   "cell_type": "markdown",
   "id": "8cc6468b",
   "metadata": {},
   "source": [
    "# Training our model\n",
    "Here we have used SVM(support vector machine) as our machine learning model"
   ]
  },
  {
   "cell_type": "code",
   "execution_count": 81,
   "id": "06f1c75e",
   "metadata": {},
   "outputs": [],
   "source": [
    "classifier=svm.SVC(kernel='linear')"
   ]
  },
  {
   "cell_type": "code",
   "execution_count": 82,
   "id": "33674aa1",
   "metadata": {},
   "outputs": [
    {
     "name": "stdout",
     "output_type": "stream",
     "text": [
      "The mean training accuracy is 81.28\n"
     ]
    }
   ],
   "source": [
    "#fitting our model to classifier\n",
    "classifier.fit(X_train,Y_train)\n",
    "X_train_pred=classifier.predict(X_train)\n",
    "training_accuracy=accuracy_score(X_train_pred, Y_train)\n",
    "print(\"The mean training accuracy is %s\" % round(training_accuracy*100,2))"
   ]
  },
  {
   "cell_type": "markdown",
   "id": "aa5b9c13",
   "metadata": {},
   "source": [
    "### Using Random Forest classifier"
   ]
  },
  {
   "cell_type": "code",
   "execution_count": 83,
   "id": "1e48f79e",
   "metadata": {},
   "outputs": [
    {
     "name": "stdout",
     "output_type": "stream",
     "text": [
      "The mean training accuracy is 80.94\n"
     ]
    }
   ],
   "source": [
    "# Initiating the model:\n",
    "rf = RandomForestClassifier()\n",
    "rf_accuracy = cross_val_score(rf, X_train, Y_train, scoring='accuracy' ,cv=10).mean()\n",
    "print(\"The mean training accuracy is %s\" % round(rf_accuracy*100,2))"
   ]
  },
  {
   "cell_type": "markdown",
   "id": "4b3e665c",
   "metadata": {},
   "source": [
    "### Logistic Regression Model:"
   ]
  },
  {
   "cell_type": "code",
   "execution_count": 84,
   "id": "8053dc62",
   "metadata": {
    "scrolled": true
   },
   "outputs": [
    {
     "name": "stderr",
     "output_type": "stream",
     "text": [
      "C:\\Users\\Dell\\New folder\\envs\\ModelML\\lib\\site-packages\\sklearn\\linear_model\\_logistic.py:458: ConvergenceWarning: lbfgs failed to converge (status=1):\n",
      "STOP: TOTAL NO. of ITERATIONS REACHED LIMIT.\n",
      "\n",
      "Increase the number of iterations (max_iter) or scale the data as shown in:\n",
      "    https://scikit-learn.org/stable/modules/preprocessing.html\n",
      "Please also refer to the documentation for alternative solver options:\n",
      "    https://scikit-learn.org/stable/modules/linear_model.html#logistic-regression\n",
      "  n_iter_i = _check_optimize_result(\n",
      "C:\\Users\\Dell\\New folder\\envs\\ModelML\\lib\\site-packages\\sklearn\\linear_model\\_logistic.py:458: ConvergenceWarning: lbfgs failed to converge (status=1):\n",
      "STOP: TOTAL NO. of ITERATIONS REACHED LIMIT.\n",
      "\n",
      "Increase the number of iterations (max_iter) or scale the data as shown in:\n",
      "    https://scikit-learn.org/stable/modules/preprocessing.html\n",
      "Please also refer to the documentation for alternative solver options:\n",
      "    https://scikit-learn.org/stable/modules/linear_model.html#logistic-regression\n",
      "  n_iter_i = _check_optimize_result(\n",
      "C:\\Users\\Dell\\New folder\\envs\\ModelML\\lib\\site-packages\\sklearn\\linear_model\\_logistic.py:458: ConvergenceWarning: lbfgs failed to converge (status=1):\n",
      "STOP: TOTAL NO. of ITERATIONS REACHED LIMIT.\n",
      "\n",
      "Increase the number of iterations (max_iter) or scale the data as shown in:\n",
      "    https://scikit-learn.org/stable/modules/preprocessing.html\n",
      "Please also refer to the documentation for alternative solver options:\n",
      "    https://scikit-learn.org/stable/modules/linear_model.html#logistic-regression\n",
      "  n_iter_i = _check_optimize_result(\n",
      "C:\\Users\\Dell\\New folder\\envs\\ModelML\\lib\\site-packages\\sklearn\\linear_model\\_logistic.py:458: ConvergenceWarning: lbfgs failed to converge (status=1):\n",
      "STOP: TOTAL NO. of ITERATIONS REACHED LIMIT.\n",
      "\n",
      "Increase the number of iterations (max_iter) or scale the data as shown in:\n",
      "    https://scikit-learn.org/stable/modules/preprocessing.html\n",
      "Please also refer to the documentation for alternative solver options:\n",
      "    https://scikit-learn.org/stable/modules/linear_model.html#logistic-regression\n",
      "  n_iter_i = _check_optimize_result(\n",
      "C:\\Users\\Dell\\New folder\\envs\\ModelML\\lib\\site-packages\\sklearn\\linear_model\\_logistic.py:458: ConvergenceWarning: lbfgs failed to converge (status=1):\n",
      "STOP: TOTAL NO. of ITERATIONS REACHED LIMIT.\n",
      "\n",
      "Increase the number of iterations (max_iter) or scale the data as shown in:\n",
      "    https://scikit-learn.org/stable/modules/preprocessing.html\n",
      "Please also refer to the documentation for alternative solver options:\n",
      "    https://scikit-learn.org/stable/modules/linear_model.html#logistic-regression\n",
      "  n_iter_i = _check_optimize_result(\n",
      "C:\\Users\\Dell\\New folder\\envs\\ModelML\\lib\\site-packages\\sklearn\\linear_model\\_logistic.py:458: ConvergenceWarning: lbfgs failed to converge (status=1):\n",
      "STOP: TOTAL NO. of ITERATIONS REACHED LIMIT.\n",
      "\n",
      "Increase the number of iterations (max_iter) or scale the data as shown in:\n",
      "    https://scikit-learn.org/stable/modules/preprocessing.html\n",
      "Please also refer to the documentation for alternative solver options:\n",
      "    https://scikit-learn.org/stable/modules/linear_model.html#logistic-regression\n",
      "  n_iter_i = _check_optimize_result(\n",
      "C:\\Users\\Dell\\New folder\\envs\\ModelML\\lib\\site-packages\\sklearn\\linear_model\\_logistic.py:458: ConvergenceWarning: lbfgs failed to converge (status=1):\n",
      "STOP: TOTAL NO. of ITERATIONS REACHED LIMIT.\n",
      "\n",
      "Increase the number of iterations (max_iter) or scale the data as shown in:\n",
      "    https://scikit-learn.org/stable/modules/preprocessing.html\n",
      "Please also refer to the documentation for alternative solver options:\n",
      "    https://scikit-learn.org/stable/modules/linear_model.html#logistic-regression\n",
      "  n_iter_i = _check_optimize_result(\n"
     ]
    },
    {
     "name": "stdout",
     "output_type": "stream",
     "text": [
      "The mean training accuracy is 78.8\n"
     ]
    },
    {
     "name": "stderr",
     "output_type": "stream",
     "text": [
      "C:\\Users\\Dell\\New folder\\envs\\ModelML\\lib\\site-packages\\sklearn\\linear_model\\_logistic.py:458: ConvergenceWarning: lbfgs failed to converge (status=1):\n",
      "STOP: TOTAL NO. of ITERATIONS REACHED LIMIT.\n",
      "\n",
      "Increase the number of iterations (max_iter) or scale the data as shown in:\n",
      "    https://scikit-learn.org/stable/modules/preprocessing.html\n",
      "Please also refer to the documentation for alternative solver options:\n",
      "    https://scikit-learn.org/stable/modules/linear_model.html#logistic-regression\n",
      "  n_iter_i = _check_optimize_result(\n",
      "C:\\Users\\Dell\\New folder\\envs\\ModelML\\lib\\site-packages\\sklearn\\linear_model\\_logistic.py:458: ConvergenceWarning: lbfgs failed to converge (status=1):\n",
      "STOP: TOTAL NO. of ITERATIONS REACHED LIMIT.\n",
      "\n",
      "Increase the number of iterations (max_iter) or scale the data as shown in:\n",
      "    https://scikit-learn.org/stable/modules/preprocessing.html\n",
      "Please also refer to the documentation for alternative solver options:\n",
      "    https://scikit-learn.org/stable/modules/linear_model.html#logistic-regression\n",
      "  n_iter_i = _check_optimize_result(\n",
      "C:\\Users\\Dell\\New folder\\envs\\ModelML\\lib\\site-packages\\sklearn\\linear_model\\_logistic.py:458: ConvergenceWarning: lbfgs failed to converge (status=1):\n",
      "STOP: TOTAL NO. of ITERATIONS REACHED LIMIT.\n",
      "\n",
      "Increase the number of iterations (max_iter) or scale the data as shown in:\n",
      "    https://scikit-learn.org/stable/modules/preprocessing.html\n",
      "Please also refer to the documentation for alternative solver options:\n",
      "    https://scikit-learn.org/stable/modules/linear_model.html#logistic-regression\n",
      "  n_iter_i = _check_optimize_result(\n"
     ]
    }
   ],
   "source": [
    "# Initiating the model:\n",
    "lr = LogisticRegression()\n",
    "lr_accuracy = cross_val_score(lr, X_train, Y_train, scoring='accuracy' ,cv=10).mean()\n",
    "print(\"The mean training accuracy is %s\" % round(lr_accuracy*100,2))"
   ]
  },
  {
   "cell_type": "markdown",
   "id": "d510f463",
   "metadata": {},
   "source": [
    "### Naive bayes"
   ]
  },
  {
   "cell_type": "code",
   "execution_count": 85,
   "id": "7c7ec113",
   "metadata": {},
   "outputs": [
    {
     "name": "stdout",
     "output_type": "stream",
     "text": [
      "The mean accuracy is 76.65\n"
     ]
    }
   ],
   "source": [
    "# Initiating:\n",
    "nb = GaussianNB()\n",
    "nb_accuracy = cross_val_score(nb, X_train, Y_train, scoring='accuracy' ,cv=10).mean()\n",
    "print(\"The mean accuracy is %s\" % round(nb_accuracy*100,2))"
   ]
  },
  {
   "cell_type": "markdown",
   "id": "ca815d5b",
   "metadata": {},
   "source": [
    "### Evaluation model:accuracy score for SVM"
   ]
  },
  {
   "cell_type": "code",
   "execution_count": 86,
   "id": "0c875922",
   "metadata": {},
   "outputs": [
    {
     "name": "stdout",
     "output_type": "stream",
     "text": [
      "Accuracy of training dataset is: 81.27659574468085\n"
     ]
    }
   ],
   "source": [
    "X_train_pred=classifier.predict(X_train)\n",
    "training_accuracy=accuracy_score(X_train_pred, Y_train)\n",
    "print(\"Accuracy of training dataset is:\",training_accuracy*100)"
   ]
  },
  {
   "cell_type": "code",
   "execution_count": 87,
   "id": "78998dee",
   "metadata": {},
   "outputs": [
    {
     "name": "stdout",
     "output_type": "stream",
     "text": [
      "Accuracy of testing dataset is: 71.28712871287128\n"
     ]
    }
   ],
   "source": [
    "X_test_pred=classifier.predict(X_test)\n",
    "training_accuracy=accuracy_score(X_test_pred, Y_test)\n",
    "print(\"Accuracy of testing dataset is:\",training_accuracy*100)"
   ]
  },
  {
   "cell_type": "markdown",
   "id": "79d6b7b9",
   "metadata": {},
   "source": [
    "#### Making a predictive system"
   ]
  },
  {
   "cell_type": "code",
   "execution_count": 88,
   "id": "e91d6025",
   "metadata": {},
   "outputs": [],
   "source": [
    "input_data=[5,166,72,19,175,25.8,0.587,51]\n",
    "input_array=np.asarray(input_data)    #changing input to numpy array\n",
    "input_data_reshaped=input_array.reshape(1,-1)   #reshaping \n",
    "#standardizing out input\n",
    "Scaler=StandardScaler()\n",
    "stan=Scaler.fit_transform(input_data_reshaped)"
   ]
  },
  {
   "cell_type": "code",
   "execution_count": 89,
   "id": "be25b0bb",
   "metadata": {},
   "outputs": [
    {
     "name": "stdout",
     "output_type": "stream",
     "text": [
      "[0]\n",
      "The Patient is non diabetic\n"
     ]
    },
    {
     "name": "stderr",
     "output_type": "stream",
     "text": [
      "C:\\Users\\Dell\\New folder\\envs\\ModelML\\lib\\site-packages\\sklearn\\base.py:439: UserWarning: X does not have valid feature names, but SVC was fitted with feature names\n",
      "  warnings.warn(\n"
     ]
    }
   ],
   "source": [
    "prediction=classifier.predict(stan)\n",
    "print(prediction)\n",
    "\n",
    "if (prediction[0]==0):\n",
    "    print(\"The Patient is non diabetic\")\n",
    "else:\n",
    "    print(\"The Pateint is diabetic\")"
   ]
  },
  {
   "cell_type": "markdown",
   "id": "42cbba2a",
   "metadata": {},
   "source": [
    "## saving the model in .sav extension"
   ]
  },
  {
   "cell_type": "code",
   "execution_count": 90,
   "id": "f671d70e",
   "metadata": {},
   "outputs": [],
   "source": [
    "import pickle"
   ]
  },
  {
   "cell_type": "code",
   "execution_count": 91,
   "id": "9653170a",
   "metadata": {},
   "outputs": [],
   "source": [
    "filename = 'diabetes.sav'\n",
    "pickle.dump(classifier, open(filename, 'wb'))    #[wb for write binary]"
   ]
  },
  {
   "cell_type": "code",
   "execution_count": 92,
   "id": "81403eb8",
   "metadata": {},
   "outputs": [],
   "source": [
    "# loading the saved model\n",
    "model = pickle.load(open('diabetes.sav', 'rb'))   #[rb for read binary]"
   ]
  },
  {
   "cell_type": "code",
   "execution_count": 93,
   "id": "77708fc6",
   "metadata": {},
   "outputs": [],
   "source": [
    "input_data=[3,120,50,10,100,30.7,1.658,20]\n",
    "input_array=np.asarray(input_data)    #changing input to numpy array\n",
    "input_data_reshaped=input_array.reshape(1,-1)   #reshaping "
   ]
  },
  {
   "cell_type": "code",
   "execution_count": 94,
   "id": "71e72f0d",
   "metadata": {},
   "outputs": [
    {
     "name": "stdout",
     "output_type": "stream",
     "text": [
      "[1]\n",
      "The Pateint is diabetic\n"
     ]
    },
    {
     "name": "stderr",
     "output_type": "stream",
     "text": [
      "C:\\Users\\Dell\\New folder\\envs\\ModelML\\lib\\site-packages\\sklearn\\base.py:439: UserWarning: X does not have valid feature names, but SVC was fitted with feature names\n",
      "  warnings.warn(\n"
     ]
    }
   ],
   "source": [
    "prediction=model.predict(input_data_reshaped)\n",
    "print(prediction)\n",
    "\n",
    "if (prediction[0]==0):\n",
    "    print(\"The Patient is non diabetic\")\n",
    "else:\n",
    "    print(\"The Pateint is diabetic\")"
   ]
  },
  {
   "cell_type": "code",
   "execution_count": 95,
   "id": "46fc8dcb",
   "metadata": {},
   "outputs": [
    {
     "name": "stdout",
     "output_type": "stream",
     "text": [
      "Pregnancies\n",
      "Glucose\n",
      "BloodPressure\n",
      "SkinThickness\n",
      "Insulin\n",
      "BMI\n",
      "DiabetesPedigreeFunction\n",
      "Age\n"
     ]
    }
   ],
   "source": [
    "for column in X.columns:\n",
    "  print(column)"
   ]
  },
  {
   "cell_type": "code",
   "execution_count": 96,
   "id": "196bf98f",
   "metadata": {},
   "outputs": [
    {
     "data": {
      "text/plain": [
       "array(['Pregnancies', 'Glucose', 'BloodPressure', 'SkinThickness',\n",
       "       'Insulin', 'BMI', 'DiabetesPedigreeFunction', 'Age', 'Outcome'],\n",
       "      dtype=object)"
      ]
     },
     "execution_count": 96,
     "metadata": {},
     "output_type": "execute_result"
    }
   ],
   "source": [
    "data1.columns.values"
   ]
  },
  {
   "cell_type": "code",
   "execution_count": null,
   "id": "f3370e5b",
   "metadata": {},
   "outputs": [],
   "source": []
  },
  {
   "cell_type": "code",
   "execution_count": null,
   "id": "22812dd5",
   "metadata": {},
   "outputs": [],
   "source": []
  }
 ],
 "metadata": {
  "kernelspec": {
   "display_name": "Python 3 (ipykernel)",
   "language": "python",
   "name": "python3"
  },
  "language_info": {
   "codemirror_mode": {
    "name": "ipython",
    "version": 3
   },
   "file_extension": ".py",
   "mimetype": "text/x-python",
   "name": "python",
   "nbconvert_exporter": "python",
   "pygments_lexer": "ipython3",
   "version": "3.9.16"
  }
 },
 "nbformat": 4,
 "nbformat_minor": 5
}
